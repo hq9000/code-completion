{
 "cells": [
  {
   "cell_type": "code",
   "execution_count": 8,
   "metadata": {
    "collapsed": true
   },
   "outputs": [],
   "source": [
    "import torch\n",
    "import yaml\n",
    "\n",
    "from data import MainDataset\n",
    "from model import MixtureAttention\n",
    "from utils import DotDict"
   ]
  },
  {
   "cell_type": "code",
   "execution_count": 9,
   "outputs": [],
   "source": [
    "config_file_path = '../configs/attn_lstm_vocab_50k.yml'\n",
    "with open(config_file_path, 'r') as f:\n",
    "    config = DotDict(yaml.safe_load(f))"
   ],
   "metadata": {
    "collapsed": false,
    "pycharm": {
     "name": "#%%\n"
    }
   }
  },
  {
   "cell_type": "code",
   "execution_count": 15,
   "outputs": [
    {
     "name": "stdout",
     "output_type": "stream",
     "text": [
      "reading data from  .././pickle_data/PY_non_terminal_small.pickle\n",
      "the vocab_sizeN is 13 (not including the eof)\n",
      "the number of training data is 14\n",
      "the number of test data is 14\n",
      "\n",
      "reading data from  .././pickle_data/PY_terminal_50k_whole.pickle\n",
      "the vocab_sizeT is 50000 (not including the unk and eof)\n",
      "the attn_size is 50\n",
      "the number of training data is 14\n",
      "the number of test data is 14\n",
      "Finish reading data and take 0.02\n",
      "\n"
     ]
    },
    {
     "name": "stderr",
     "output_type": "stream",
     "text": [
      "100%|██████████| 14/14 [00:00<00:00, 2012.07it/s]\n"
     ]
    }
   ],
   "source": [
    "data_train = MainDataset(\n",
    "    N_filename = '../' + config.data.N_filename,\n",
    "    T_filename = '../' + config.data.T_filename,\n",
    "    is_train=True,\n",
    "    truncate_size=config.data.truncate_size\n",
    ")"
   ],
   "metadata": {
    "collapsed": false,
    "pycharm": {
     "name": "#%%\n"
    }
   }
  },
  {
   "cell_type": "code",
   "execution_count": 16,
   "outputs": [],
   "source": [
    "device = config.train.device\n",
    "\n",
    "if not torch.cuda.is_available():\n",
    "    device = 'cpu'"
   ],
   "metadata": {
    "collapsed": false,
    "pycharm": {
     "name": "#%%\n"
    }
   }
  },
  {
   "cell_type": "code",
   "execution_count": 17,
   "outputs": [],
   "source": [
    "model = MixtureAttention(\n",
    "        hidden_size = config.model.hidden_size,\n",
    "        vocab_sizeT = data_train.vocab_sizeT,\n",
    "        vocab_sizeN = data_train.vocab_sizeN,\n",
    "        attn_size = data_train.attn_size,\n",
    "        embedding_sizeT = config.model.embedding_sizeT,\n",
    "        embedding_sizeN = config.model.embedding_sizeN,\n",
    "        num_layers = config.model.num_layers,\n",
    "        dropout = config.model.dropout,\n",
    "        label_smoothing = config.model.label_smoothing,\n",
    "        pointer = config.model.pointer,\n",
    "        attn = config.model.attn,\n",
    "        device = device\n",
    "    )"
   ],
   "metadata": {
    "collapsed": false,
    "pycharm": {
     "name": "#%%\n"
    }
   }
  },
  {
   "cell_type": "code",
   "execution_count": 18,
   "outputs": [],
   "source": [
    "checkpoint = torch.load('../checkpoints/attn_lstm_vocab_50k/epoch_0000.pth')"
   ],
   "metadata": {
    "collapsed": false,
    "pycharm": {
     "name": "#%%\n"
    }
   }
  },
  {
   "cell_type": "code",
   "execution_count": 19,
   "outputs": [
    {
     "data": {
      "text/plain": "<All keys matched successfully>"
     },
     "execution_count": 19,
     "metadata": {},
     "output_type": "execute_result"
    }
   ],
   "source": [
    "model.load_state_dict(checkpoint['model'])"
   ],
   "metadata": {
    "collapsed": false,
    "pycharm": {
     "name": "#%%\n"
    }
   }
  },
  {
   "cell_type": "code",
   "execution_count": 22,
   "outputs": [],
   "source": [
    "from torch import Tensor\n",
    "\n",
    "p_tensor = Tensor([0, 1, 2])\n",
    "t_tensor = Tensor([0, 1, 2])\n",
    "n_tensor = Tensor([0, 1, 2])"
   ],
   "metadata": {
    "collapsed": false,
    "pycharm": {
     "name": "#%%\n"
    }
   }
  },
  {
   "cell_type": "code",
   "execution_count": 52,
   "outputs": [],
   "source": [
    "example = data_train.data[0]\n",
    "#t = Tensor([1,3], type=torch.long, device=device),\n",
    "t = torch.LongTensor([example[0]], device=device)"
   ],
   "metadata": {
    "collapsed": false,
    "pycharm": {
     "name": "#%%\n"
    }
   }
  },
  {
   "cell_type": "markdown",
   "source": [
    "below predictions using some train data are being made"
   ],
   "metadata": {
    "collapsed": false,
    "pycharm": {
     "name": "#%% md\n"
    }
   }
  },
  {
   "cell_type": "code",
   "execution_count": 56,
   "outputs": [],
   "source": [
    "from torch import LongTensor\n",
    "\n",
    "example = data_train.data[3]\n",
    "\n",
    "with torch.no_grad():\n",
    "    prediction = model(\n",
    "        LongTensor([example[0]], device=device),\n",
    "        LongTensor([example[1]], device=device),\n",
    "        LongTensor([example[2]], device=device)\n",
    "    )"
   ],
   "metadata": {
    "collapsed": false,
    "pycharm": {
     "name": "#%%\n"
    }
   }
  }
 ],
 "metadata": {
  "kernelspec": {
   "name": "nash21",
   "language": "python",
   "display_name": "NASH21"
  },
  "language_info": {
   "codemirror_mode": {
    "name": "ipython",
    "version": 2
   },
   "file_extension": ".py",
   "mimetype": "text/x-python",
   "name": "python",
   "nbconvert_exporter": "python",
   "pygments_lexer": "ipython2",
   "version": "2.7.6"
  }
 },
 "nbformat": 4,
 "nbformat_minor": 0
}